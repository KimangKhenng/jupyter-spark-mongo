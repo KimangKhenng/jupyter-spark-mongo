{
 "cells": [
  {
   "cell_type": "code",
   "execution_count": 1,
   "id": "8ecb419f-5eb3-479a-b346-43e7c23bdd0f",
   "metadata": {},
   "outputs": [],
   "source": [
    "import findspark\n",
    "findspark.init()"
   ]
  },
  {
   "cell_type": "code",
   "execution_count": 2,
   "id": "aa17f30c-cd8e-4851-9d45-49180c8ad33c",
   "metadata": {},
   "outputs": [],
   "source": [
    "import pyspark\n",
    "from pyspark.sql import SparkSession  \n",
    "from pyspark.sql.types import *\n",
    "from pyspark.sql.functions import *\n",
    "# Configure spark session\n",
    "spark = SparkSession\\\n",
    "\t.builder\\\n",
    "\t.master('local[2]')\\\n",
    "\t.appName('quake_etl')\\\n",
    "    .config('spark.mongodb.read.connection.uri','mongodb://mongo-spark/spark-db.spark')\\\n",
    "    .config('spark.mongodb.write.connection.uri','mongodb://mongo-spark/spark-db.spark')\\\n",
    "\t.config('spark.jars.packages', 'org.mongodb.spark:mongo-spark-connector_2.12:2.4.1')\\\n",
    "\t.getOrCreate()\n"
   ]
  },
  {
   "cell_type": "code",
   "execution_count": 3,
   "id": "c5ec0ae5-de54-4e6d-98c3-95fe5ac752f2",
   "metadata": {},
   "outputs": [
    {
     "data": {
      "text/plain": [
       "[Row(Date='01/02/1965', Time='13:44:18', Latitude='19.246', Longitude='145.616', Type='Earthquake', Depth='131.6', Depth Error=None, Depth Seismic Stations=None, Magnitude='6', Magnitude Type='MW', Magnitude Error=None, Magnitude Seismic Stations=None, Azimuthal Gap=None, Horizontal Distance=None, Horizontal Error=None, Root Mean Square=None, ID='ISCGEM860706', Source='ISCGEM', Location Source='ISCGEM', Magnitude Source='ISCGEM', Status='Automatic')]"
      ]
     },
     "execution_count": 3,
     "metadata": {},
     "output_type": "execute_result"
    }
   ],
   "source": [
    "# Load the dataset \n",
    "df_load = spark.read.csv(r\"database.csv\", header=True)\n",
    "# Preview df_load\n",
    "df_load.take(1)\n"
   ]
  },
  {
   "cell_type": "code",
   "execution_count": 5,
   "id": "3126482c-9a38-4a81-a975-e8c3d850af8a",
   "metadata": {},
   "outputs": [],
   "source": [
    "# Write df_load to mongodb\n",
    "df_load.write.format('mongo')\\\n",
    "\t.mode('overwrite')\\\n",
    "\t.option('spark.mongodb.output.uri', 'mongodb://mongo-spark/spark-db.spark').save()"
   ]
  },
  {
   "cell_type": "code",
   "execution_count": null,
   "id": "757c31bc-32e2-4be3-b346-59c8a3014925",
   "metadata": {},
   "outputs": [],
   "source": []
  }
 ],
 "metadata": {
  "kernelspec": {
   "display_name": "Python 3 (ipykernel)",
   "language": "python",
   "name": "python3"
  },
  "language_info": {
   "codemirror_mode": {
    "name": "ipython",
    "version": 3
   },
   "file_extension": ".py",
   "mimetype": "text/x-python",
   "name": "python",
   "nbconvert_exporter": "python",
   "pygments_lexer": "ipython3",
   "version": "3.11.6"
  }
 },
 "nbformat": 4,
 "nbformat_minor": 5
}
